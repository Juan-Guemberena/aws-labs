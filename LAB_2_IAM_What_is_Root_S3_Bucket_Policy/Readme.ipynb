{
 "cells": [
  {
   "cell_type": "code",
   "execution_count": null,
   "metadata": {},
   "outputs": [],
   "source": [
    "import json"
   ]
  },
  {
   "cell_type": "code",
   "execution_count": null,
   "metadata": {},
   "outputs": [],
   "source": [
    "%load demo-assume-role-policy-internal.json"
   ]
  },
  {
   "cell_type": "code",
   "execution_count": null,
   "metadata": {},
   "outputs": [],
   "source": [
    "ls"
   ]
  },
  {
   "cell_type": "markdown",
   "metadata": {},
   "source": [
    "<img src=\"s3-cross-account.png\" class=\"left\"/>"
   ]
  },
  {
   "cell_type": "markdown",
   "metadata": {},
   "source": [
    "The resources for this lab are an S3 bucket we will refet to as mybucket (actually mybucket-$random-$random\n",
    "All roles shown above will have the same permissions policy which allows them to access generic S3 resources."
   ]
  },
  {
   "cell_type": "markdown",
   "metadata": {},
   "source": [
    "This lab requires an admin_A and admin_B which can create all the necessary resources. For the purposes of instcurtion\n",
    "we will create resources as needed. If you are running this for strudents, the admin can run setupA.sh and setupB.sh. "
   ]
  },
  {
   "cell_type": "code",
   "execution_count": null,
   "metadata": {},
   "outputs": [],
   "source": [
    "%%bash --out bash_output\n",
    "echo $RANDOM\n"
   ]
  },
  {
   "cell_type": "code",
   "execution_count": null,
   "metadata": {},
   "outputs": [],
   "source": [
    "rand = str(bash_output.strip())\n",
    "rand"
   ]
  },
  {
   "cell_type": "code",
   "execution_count": null,
   "metadata": {},
   "outputs": [],
   "source": [
    "rand = str(30873)"
   ]
  },
  {
   "cell_type": "markdown",
   "metadata": {},
   "source": [
    "For this lab, you will need user credentials in two AWS accounts A and B and ~/.aws/credentials with blocks like\n",
    "```\n",
    "[profileA_rhs]\n",
    "aws_access_key_id=AKIA**********\n",
    "aws_secret_access_key=xxxxxxxxxxxxxxxx\n",
    "\n",
    "[profileB_rhs]\n",
    "aws_access_key_id=AKIA**********\n",
    "aws_secret_access_key=xxxxxxxxxxxxxxxx\n",
    "```\n",
    "\n",
    "Fill in the values you wish to use for the RHS (right hand side) of profileA and profileB below as in your ~/.aws/credentials file."
   ]
  },
  {
   "cell_type": "code",
   "execution_count": null,
   "metadata": {
    "pycharm": {
     "name": "#%%\n"
    }
   },
   "outputs": [],
   "source": [
    "profileA = \"pbeta\"\n",
    "profileB = \"pdelta\"\n",
    "mybucket1 = \"mybucket1-\" + rand\n",
    "mybucket2 = \"mybucket2-\" + rand\n",
    "path = \"/aws-labs/\" # path acts as a prefix to IAM roles and policies. It can be used like tags to list our assets."
   ]
  },
  {
   "cell_type": "code",
   "execution_count": null,
   "metadata": {},
   "outputs": [],
   "source": [
    "!aws --profile $profileA sts get-caller-identity"
   ]
  },
  {
   "cell_type": "code",
   "execution_count": null,
   "metadata": {
    "pycharm": {
     "name": "#%%\n"
    }
   },
   "outputs": [],
   "source": [
    "!aws --profile $profileB sts get-caller-identity"
   ]
  },
  {
   "cell_type": "markdown",
   "metadata": {},
   "source": [
    "Use the output Arn's from above to fill in the values below. arn:aws:iam::..."
   ]
  },
  {
   "cell_type": "code",
   "execution_count": null,
   "metadata": {},
   "outputs": [],
   "source": [
    "principalA_arn = \"arn:aws:iam::111111111111:user/kesten\"\n",
    "principalB_arn = \"arn:aws:iam::222222222222:user/kesten\"\n",
    "accountA = principalA_arn.split(':')[4]\n",
    "accountB = principalB_arn.split(':')[4]\n",
    "accountB"
   ]
  },
  {
   "cell_type": "markdown",
   "metadata": {},
   "source": [
    "However"
   ]
  },
  {
   "cell_type": "code",
   "execution_count": null,
   "metadata": {
    "scrolled": true
   },
   "outputs": [],
   "source": [
    "%%bash\n",
    "aws --profile \"${profileA}\" sts get-caller-identity\n",
    "aws --profile \"${profileB}\" sts get-caller-identity\n",
    "# The following evaluate $profileA to null\n",
    "# aws --profile $profileA sts get-caller-identity\n",
    "# aws --profile $profileB sts get-caller-identity"
   ]
  },
  {
   "cell_type": "markdown",
   "metadata": {},
   "source": [
    "As you can see from above, we must take care as bash magic in cells may not behave as we expect. The output of the cell above should correspond to profileB, but it does not. The moral is, try not to get fancy with bash in jupyter.\n"
   ]
  },
  {
   "cell_type": "markdown",
   "metadata": {},
   "source": [
    "## Admin Setup\n",
    "Use the Arn fields above to fill in the values below. If you do not have admin\n",
    "credentials, this must be done by the administrator"
   ]
  },
  {
   "cell_type": "markdown",
   "metadata": {
    "pycharm": {
     "name": "#%% md\n"
    }
   },
   "source": [
    "The following policy is attached to all roles except role-A2 allowing the associated role S3 access to any S3"
   ]
  },
  {
   "cell_type": "raw",
   "metadata": {},
   "source": [
    "Create the 4 roles for the lab"
   ]
  },
  {
   "cell_type": "code",
   "execution_count": null,
   "metadata": {},
   "outputs": [],
   "source": [
    "roleA1 = \"roleA1-\" + rand\n",
    "roleA2 = \"roleA2-\" + rand\n",
    "roleB1 = \"roleB1-\" + rand\n",
    "roleB2 = \"roleB2-\" + rand"
   ]
  },
  {
   "cell_type": "code",
   "execution_count": null,
   "metadata": {},
   "outputs": [],
   "source": [
    "# assume_A_policy.json\n",
    "assume_A_policy = {\n",
    "  \"Version\": \"2012-10-17\",\n",
    "  \"Statement\": [\n",
    "    {\n",
    "      \"Sid\": \"AssumeRolePolicyForS3ReaderRoleByExternal\",\n",
    "      \"Effect\": \"Allow\",\n",
    "      \"Principal\": {\"AWS\": [principalA_arn]},\n",
    "      \"Action\": \"sts:AssumeRole\"\n",
    "    }]\n",
    "}\n",
    "assume_A_policy"
   ]
  },
  {
   "cell_type": "code",
   "execution_count": null,
   "metadata": {},
   "outputs": [],
   "source": [
    "assume_A_policy_str = json.dumps(assume_A_policy)\n",
    "assume_A_policy_str"
   ]
  },
  {
   "cell_type": "code",
   "execution_count": null,
   "metadata": {},
   "outputs": [],
   "source": [
    "!aws --profile $profileB sts get-caller-identity"
   ]
  },
  {
   "cell_type": "code",
   "execution_count": null,
   "metadata": {},
   "outputs": [],
   "source": [
    "!echo $profileA + $roleA1 $path\n"
   ]
  },
  {
   "cell_type": "code",
   "execution_count": null,
   "metadata": {
    "scrolled": true
   },
   "outputs": [],
   "source": [
    "!aws --profile $profileA iam create-role --role-name $roleA1 \\\n",
    "                                        --path $path \\\n",
    "                                        --assume-role-policy-document assume_A_policy_str"
   ]
  },
  {
   "cell_type": "code",
   "execution_count": null,
   "metadata": {
    "scrolled": true
   },
   "outputs": [],
   "source": [
    "!aws --profile $profileA iam create-role --role-name $roleA2 \\\n",
    "                                        --path $path \n",
    "                                        --assume-role-policy-document assume_A_policy_str"
   ]
  },
  {
   "cell_type": "code",
   "execution_count": null,
   "metadata": {
    "scrolled": true
   },
   "outputs": [],
   "source": [
    "!aws --profile $profileB iam create-role --role-name $roleB1 \\\n",
    "                                        --path $path \\\n",
    "                                        --assume-role-policy-document assume_B_policy_str"
   ]
  },
  {
   "cell_type": "code",
   "execution_count": null,
   "metadata": {
    "scrolled": true
   },
   "outputs": [],
   "source": [
    "!aws --profile $profileB iam create-role --role-name $roleB2 \\\n",
    "                                        --path $path \\\n",
    "                                        --assume-role-policy-document assume_B_policy_str"
   ]
  },
  {
   "cell_type": "markdown",
   "metadata": {},
   "source": [
    "Create the buckets for the lab. Notie that unlike the IAM resources created, the bucket ARN does not include the account ID."
   ]
  },
  {
   "cell_type": "code",
   "execution_count": null,
   "metadata": {},
   "outputs": [],
   "source": [
    "!aws --profile $profileA s3api create-bucket --bucket $mybucket1\n",
    "!aws --profile $profileA s3api create-bucket --bucket $mybucket2 \\\n",
    "                --create-bucket-configuration LocationConstraint=us-west-1"
   ]
  },
  {
   "cell_type": "code",
   "execution_count": null,
   "metadata": {},
   "outputs": [],
   "source": [
    "!aws --profile $profileA s3 cp demo-vars.sh s3://$mybucket1/\n",
    "!aws --profile $profileA s3 cp assume_A_policy.json s3://$mybucket2/"
   ]
  },
  {
   "cell_type": "code",
   "execution_count": null,
   "metadata": {},
   "outputs": [],
   "source": [
    "!aws --profile $profileA s3 ls s3://$mybucket1"
   ]
  },
  {
   "cell_type": "code",
   "execution_count": null,
   "metadata": {},
   "outputs": [],
   "source": [
    "tagset = 'TagSet=[{Key=path,Value=' + path + '},{Key=rand,Value=' + rand + '}]'\n",
    "tagset"
   ]
  },
  {
   "cell_type": "code",
   "execution_count": null,
   "metadata": {},
   "outputs": [],
   "source": [
    "!aws --profile $profileA s3api put-bucket-tagging --bucket $mybucket1 \\\n",
    "                --tagging $tagset\n",
    "!aws --profile $profileA s3api put-bucket-tagging --bucket $mybucket2 \\\n",
    "                --tagging $tagset"
   ]
  },
  {
   "cell_type": "markdown",
   "metadata": {},
   "source": [
    "We have written a function awsas which is aws_run_as.sh\n",
    "in this repo which does the following:<br><br>\n",
    "awsas --profile profileB roleB1 [aws command args] <br><br>\n",
    "This does the magic of using user/service credentials in profileB to \n",
    "assume roleB1 and then run commands. Without this function, you have to get the response \n",
    "for assume-role and put them into environment variables or ~/.aws/credentials profile each time\n",
    "as described [here](https://docs.aws.amazon.com/cli/latest/userguide/cli-configure-role.html). \n",
    "This is a very new beta script so drop into a bash shell if anything goes wrong :)<br>\n",
    "Let's try it out!"
   ]
  },
  {
   "cell_type": "code",
   "execution_count": null,
   "metadata": {
    "scrolled": true
   },
   "outputs": [],
   "source": [
    "!awsas  --debug --profile $profileB $roleB1  sts get-caller-identity"
   ]
  },
  {
   "cell_type": "markdown",
   "metadata": {},
   "source": [
    "### Admin setup of managed policy"
   ]
  },
  {
   "cell_type": "code",
   "execution_count": null,
   "metadata": {},
   "outputs": [],
   "source": [
    "def jdump(data, filename):\n",
    "    with open(filename, 'w') as f:\n",
    "        json.dump(data, f, sort_keys=True, indent=4 * ' ')"
   ]
  },
  {
   "cell_type": "code",
   "execution_count": null,
   "metadata": {},
   "outputs": [],
   "source": [
    "# permission-policy.json\n",
    "iam_permission_policy_for_s3 = {\n",
    "  \"Version\": \"2012-10-17\",\n",
    "  \"Statement\": [\n",
    "    {\n",
    "      \"Sid\": \"PermissionPolicyForS3Access\",\n",
    "      \"Effect\": \"Allow\",\n",
    "      \"Action\":[\"s3:PutObject\",\"s3:GetObject\",\"s3:ListBucket\"],\n",
    "      \"Resource\": [\"arn:aws:s3:::{}/*\".format(mybucket1), \n",
    "                   \"arn:aws:s3:::{}\".format(mybucket1),\n",
    "                  \"arn:aws:s3:::{}/*\".format(mybucket2), \n",
    "                   \"arn:aws:s3:::{}\".format(mybucket2)]\n",
    "    }]\n",
    "}\n",
    "jdump(iam_permission_policy_for_s3 , \"iam_permission_policy_for_s3.json\")"
   ]
  },
  {
   "cell_type": "markdown",
   "metadata": {
    "pycharm": {
     "name": "#%% md\n"
    }
   },
   "source": [
    "Since we want to attach this policy to multiple roles, we will need to create a managed policy, \n",
    "rather than an inline policy which is embeded in the role."
   ]
  },
  {
   "cell_type": "code",
   "execution_count": null,
   "metadata": {
    "pycharm": {
     "name": "#%%\n"
    }
   },
   "outputs": [],
   "source": [
    "!aws --profile $profileA iam create-policy --policy-name iam_permission_policy_for_s3_$rand \\\n",
    "                                  --path \"/aws-labs/\" \\\n",
    "                                  --policy-document file://iam_permission_policy_for_s3.json"
   ]
  },
  {
   "cell_type": "markdown",
   "metadata": {},
   "source": [
    "We must create the policy in each AWS account so repeat for B"
   ]
  },
  {
   "cell_type": "code",
   "execution_count": null,
   "metadata": {},
   "outputs": [],
   "source": [
    "!aws --profile $profileB iam create-policy --policy-name iam_permission_policy_for_s3_$rand \\\n",
    "                                --path \"/aws-labs/\" \\\n",
    "                                --policy-document file://iam_permission_policy_for_s3.json"
   ]
  },
  {
   "cell_type": "markdown",
   "metadata": {},
   "source": [
    "## Exercises"
   ]
  },
  {
   "cell_type": "markdown",
   "metadata": {},
   "source": [
    "## 1. Confirm no access for roles with no permissions and default (no) bucket policy\n",
    "So far, we have created policies and roles. When we create a role, we must include the assume-role \n",
    "trust policy which says who can assume the role. But so far it is just an empty container for us to \n",
    "put permissions policies in. Before we attach a bucket policy, let's check that we we can do with the roles\n",
    "as they are."
   ]
  },
  {
   "cell_type": "code",
   "execution_count": null,
   "metadata": {},
   "outputs": [],
   "source": [
    "!awsas  --profile $profileA $roleA1 s3 ls $mybucket1"
   ]
  },
  {
   "cell_type": "markdown",
   "metadata": {},
   "source": [
    "## 2. Check a role with no permissions can access a bucket with the right bucket policy"
   ]
  },
  {
   "cell_type": "code",
   "execution_count": null,
   "metadata": {},
   "outputs": [],
   "source": [
    "# mybucket1_policy.json\n",
    "mybucket1_policy = {\n",
    "  \"Version\": \"2012-10-17\",\n",
    "  \"Statement\": [{\n",
    "      \"Sid\": \"BucketPolicyForS3MyBucket1\",\n",
    "      \"Effect\": \"Allow\",\n",
    "      \"Principal\": {\"AWS\": [\"arn:aws:iam::{}:root\".format(accountA), \n",
    "                            \"arn:aws:iam::{}:role/{}\".format(accountA, roleA2)]},\n",
    "      \"Action\": [\"s3:PutObject\",\"s3:GetObject\",\"s3:ListBucket\"],\n",
    "      \"Resource\": [\"arn:aws:s3:::{}/*\".format(mybucket1), \n",
    "                   \"arn:aws:s3:::{}\".format(mybucket1)]\n",
    "\n",
    "    }]\n",
    "}\n",
    "jdump(mybucket1_policy , \"mybucket1_policy.json\")\n",
    "mybucket1_policy_str = json.dumps(mybucket1_policy).replace(' ', '')"
   ]
  },
  {
   "cell_type": "markdown",
   "metadata": {},
   "source": [
    "Great, now lets attach a permissions policy to roleA1. We still have no roles"
   ]
  },
  {
   "cell_type": "code",
   "execution_count": null,
   "metadata": {},
   "outputs": [],
   "source": [
    "mybucket1_policy_str"
   ]
  },
  {
   "cell_type": "code",
   "execution_count": null,
   "metadata": {},
   "outputs": [],
   "source": [
    "!echo $mybucket1 $mybucket1_policy_str $profileA"
   ]
  },
  {
   "cell_type": "markdown",
   "metadata": {},
   "source": [
    "The following should work but fails"
   ]
  },
  {
   "cell_type": "code",
   "execution_count": null,
   "metadata": {},
   "outputs": [],
   "source": [
    "!aws --profile pbeta s3api put-bucket-policy --bucket $mybucket1 \\\n",
    "--policy $mybucket1_policy_str"
   ]
  },
  {
   "cell_type": "code",
   "execution_count": null,
   "metadata": {
    "scrolled": true
   },
   "outputs": [],
   "source": [
    "!aws --profile pbeta s3api put-bucket-policy --bucket $mybucket1 \\\n",
    "--policy '{\"Version\":\"2012-10-17\",\"Statement\":[{\"Sid\":\"AssumeRolePolicyForS3ReaderRoleB\",\"Effect\":\"Allow\",\"Principal\":{\"AWS\":[\"arn:aws:iam::111111111111:root\",\"arn:aws:iam::111111111111:role/roleA2-30873\"]},\"Action\":[\"s3:PutObject\",\"s3:GetObject\",\"s3:ListBucket\"],\"Resource\":[\"arn:aws:s3:::mybucket1-30873/*\",\"arn:aws:s3:::mybucket1-30873\"]}]}'"
   ]
  },
  {
   "cell_type": "markdown",
   "metadata": {},
   "source": [
    "If we eliminate all the variable expansions then the command works fine."
   ]
  },
  {
   "cell_type": "code",
   "execution_count": null,
   "metadata": {},
   "outputs": [],
   "source": [
    "!aws --profile pbeta s3api put-bucket-policy --bucket mybucket1-30873 --policy '{\"Version\":\"2012-10-17\",\"Statement\":[{\"Sid\":\"AssumeRolePolicyForS3ReaderRoleB\",\"Effect\":\"Allow\",\"Principal\":{\"AWS\":[\"arn:aws:iam::111111111111:root\",\"arn:aws:iam::111111111111:role/roleA2-30873\"]},\"Action\":[\"s3:PutObject\",\"s3:GetObject\",\"s3:ListBucket\"],\"Resource\":[\"arn:aws:s3:::mybucket1-30873/*\",\"arn:aws:s3:::mybucket1-30873\"]}]}'"
   ]
  },
  {
   "cell_type": "markdown",
   "metadata": {},
   "source": [
    "## Switch back to Readme.md for now"
   ]
  },
  {
   "cell_type": "code",
   "execution_count": null,
   "metadata": {},
   "outputs": [],
   "source": [
    "# mybucket2_policy.json\n",
    "mybucket2_policy = {\n",
    "  \"Version\": \"2012-10-17\",\n",
    "  \"Statement\": [{\n",
    "      \"Sid\": \"BucketPolicyForS3MyBucket2\",\n",
    "      \"Effect\": \"Allow\",\n",
    "      \"Principal\": {\"AWS\": [\"arn:aws:iam::{}:root\".format(accountB),\n",
    "                           \"arn:aws:iam::{}:role/{}\".format(accountB, roleB2)]},\n",
    "      \"Action\": [\"s3:PutObject\",\"s3:GetObject\",\"s3:ListBucket\"],\n",
    "      \"Resource\": [\"arn:aws:s3:::{}/*\".format(mybucket2), \n",
    "                   \"arn:aws:s3:::{}\".format(mybucket2)]\n",
    "    }]\n",
    "}\n",
    "jdump(mybucket2_policy , \"mybucket2_policy.json\")"
   ]
  },
  {
   "cell_type": "code",
   "execution_count": null,
   "metadata": {},
   "outputs": [],
   "source": []
  }
 ],
 "metadata": {
  "kernelspec": {
   "display_name": "Python 3",
   "language": "python",
   "name": "python3"
  },
  "language_info": {
   "codemirror_mode": {
    "name": "ipython",
    "version": 3
   },
   "file_extension": ".py",
   "mimetype": "text/x-python",
   "name": "python",
   "nbconvert_exporter": "python",
   "pygments_lexer": "ipython3",
   "version": "3.7.4"
  }
 },
 "nbformat": 4,
 "nbformat_minor": 1
}