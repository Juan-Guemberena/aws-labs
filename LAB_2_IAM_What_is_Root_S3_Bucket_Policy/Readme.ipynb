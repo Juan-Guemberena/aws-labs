{
 "cells": [
  {
   "cell_type": "markdown",
   "metadata": {},
   "source": [
    "# Cross-Account vs Intra-Account Rules, and What is Root?"
   ]
  },
  {
   "cell_type": "markdown",
   "metadata": {},
   "source": [
    "In particular, what does the following mean when used as the principal in an IAM resource policy?"
   ]
  },
  {
   "cell_type": "markdown",
   "metadata": {},
   "source": [
    "\"Principal\": {\"AWS\": [\"arn:aws:iam::111122223333:root]}"
   ]
  },
  {
   "cell_type": "markdown",
   "metadata": {},
   "source": [
    "## Introduction\n",
    "\n",
    "This lab examines the difference between IAM vs AWS Resource based policies. In particular, we seek to understand the policy evaluation logic for S3 buckets with cross account access. For a refresher on IAM basics, see [Reference Policies Evaluation Logic](https://docs.aws.amazon.com/IAM/latest/UserGuide/reference_policies_evaluation-logic.html), which is valid for when the IAM Principal and S3 Resource are in the same AWS account.\n",
    "\n",
    "To summarize the above, if an action is allowed by an identity-based policy, a resource-based policy, or both, then AWS allows the action. An explicit deny in either of these policies overrides the allow.\n",
    "\n",
    "The situation changes for [cross account access](https://aws.amazon.com/premiumsupport/knowledge-center/cross-account-access-s3/). In this case, access must be explicitly allowed in both the principal's AWS access policy and the resource policy. Unfortunately, the latter reference does not mention the confused deputy issue for cross-account access which occurs when the trusted account is a 3rd party SaaS vendor. As a result, many vendors which operate on customer's S3 buckets do so insecurely.\n",
    "\n",
    "For this lab, we will assume both AWS accounts are owned by the same entity and will leave confused deputy issues for Lab 4 - Direct Access vs Assume Role: Granting cross account access to resources."
   ]
  },
  {
   "cell_type": "markdown",
   "metadata": {},
   "source": [
    "<img src=\"s3-cross-account.png\" class=\"left\"/>"
   ]
  },
  {
   "cell_type": "markdown",
   "metadata": {},
   "source": [
    "Granting permissions for Principal-A to access Resource-B when both are in the same account can be done by giving Principal-A a permissions policy to access Resource-B. Alternatively, cross-account access could be granted in a resource policy such as the following bucket policy."
   ]
  },
  {
   "cell_type": "raw",
   "metadata": {},
   "source": [
    "# demo_policy.json\n",
    "{\n",
    "  \"Version\":\"2012-10-17\",\n",
    "  \"Statement\":[\n",
    "    {\n",
    "      \"Sid\":\"AddCrossAccountPutPolicy\",\n",
    "      \"Effect\":\"Allow\",\n",
    "      \"Principal\": {\"AWS\": [\"arn:aws:iam::444455556666:root\"]},\n",
    "      \"Action\":[\"s3:PutObject\",\"s3:GetObject\",\"s3:ListBucket\"],\n",
    "      \"Resource\":[\"arn:aws:s3:::mybucket/*\", \"arn:aws:s3:::mybucket\"],\n",
    "        \"Condition\": {\n",
    "          \"IpAddress\": {\n",
    "            \"aws:SourceIp\": [\n",
    "              \"54.240.143.0/24\",\n",
    "              \"54.240.144.0/24\"\n",
    "            ]\n",
    "          }\n",
    "        }\n",
    "      }\n",
    "    ]\n",
    "}"
   ]
  },
  {
   "cell_type": "markdown",
   "metadata": {},
   "source": [
    "The resources for this lab are S3 buckets we will refer to as mybucket1 and mybucket2 (actually mybucket-$random).\n",
    "All roles shown below will have the same permissions policy which allows them to access generic S3 resources."
   ]
  },
  {
   "cell_type": "markdown",
   "metadata": {},
   "source": [
    "This lab requires an admin_A and admin_B which can create all the necessary resources. For the purposes of instruction\n",
    "we will create resources as needed. If you are running this for students, the admin can run setupA.sh and setupB.sh. "
   ]
  },
  {
   "cell_type": "code",
   "execution_count": null,
   "metadata": {},
   "outputs": [],
   "source": [
    "import json"
   ]
  },
  {
   "cell_type": "code",
   "execution_count": null,
   "metadata": {},
   "outputs": [],
   "source": [
    "%%bash --out bash_output\n",
    "echo $RANDOM"
   ]
  },
  {
   "cell_type": "code",
   "execution_count": null,
   "metadata": {},
   "outputs": [],
   "source": [
    "rand = str(bash_output.strip())\n",
    "rand"
   ]
  },
  {
   "cell_type": "code",
   "execution_count": null,
   "metadata": {},
   "outputs": [],
   "source": [
    "rand = str(123)"
   ]
  },
  {
   "cell_type": "markdown",
   "metadata": {},
   "source": [
    "For this lab, you will need user credentials in two AWS accounts A and B and ~/.aws/credentials with blocks like\n",
    "```\n",
    "[profileA]\n",
    "aws_access_key_id=AKIA**********\n",
    "aws_secret_access_key=xxxxxxxxxxxxxxxx\n",
    "\n",
    "[profileB]\n",
    "aws_access_key_id=AKIA**********\n",
    "aws_secret_access_key=xxxxxxxxxxxxxxxx\n",
    "```\n",
    "\n",
    "Fill in the values you wish to use for the RHS (right hand side) of profileA and profileB below. They must be the same as in your ~/.aws/credentials file."
   ]
  },
  {
   "cell_type": "code",
   "execution_count": null,
   "metadata": {
    "pycharm": {
     "name": "#%%\n"
    }
   },
   "outputs": [],
   "source": [
    "profileA = \"profileA\"\n",
    "profileB = \"profileB\"\n",
    "mybucket1 = \"mybucket1-\" + rand\n",
    "mybucket2 = \"mybucket2-\" + rand\n",
    "path = \"/aws-labs/\" # path acts as a prefix to IAM roles and policies. It can be used like tags to list our assets."
   ]
  },
  {
   "cell_type": "code",
   "execution_count": null,
   "metadata": {},
   "outputs": [],
   "source": [
    "!aws --profile $profileA sts get-caller-identity"
   ]
  },
  {
   "cell_type": "code",
   "execution_count": null,
   "metadata": {
    "pycharm": {
     "name": "#%%\n"
    }
   },
   "outputs": [],
   "source": [
    "!aws --profile $profileB sts get-caller-identity"
   ]
  },
  {
   "cell_type": "markdown",
   "metadata": {},
   "source": [
    "Use the output Arn's from above to fill in the values below. arn:aws:iam::..."
   ]
  },
  {
   "cell_type": "code",
   "execution_count": null,
   "metadata": {
    "scrolled": true
   },
   "outputs": [],
   "source": [
    "principalA_arn = \"Here\"\n",
    "principalB_arn = \"And here\"\n",
    "accountA = principalA_arn.split(':')[4]\n",
    "accountB = principalB_arn.split(':')[4]\n",
    "accountB"
   ]
  },
  {
   "cell_type": "markdown",
   "metadata": {},
   "source": [
    "That works. However..."
   ]
  },
  {
   "cell_type": "code",
   "execution_count": null,
   "metadata": {
    "scrolled": true
   },
   "outputs": [],
   "source": [
    "%%bash\n",
    "aws --profile \"${profileA}\" sts get-caller-identity\n",
    "aws --profile \"${profileB}\" sts get-caller-identity\n",
    "# The following evaluates $profileA to null\n",
    "# aws --profile $profileA sts get-caller-identity\n",
    "# aws --profile $profileB sts get-caller-identity"
   ]
  },
  {
   "cell_type": "markdown",
   "metadata": {},
   "source": [
    "As you can see from above, we must take care as bash magic in cells may not behave as we expect. The output of the cell above should correspond to both profiles, but it does not. The moral is, try not to get fancy with bash in jupyter.\n"
   ]
  },
  {
   "cell_type": "markdown",
   "metadata": {},
   "source": [
    "## Admin Setup"
   ]
  },
  {
   "cell_type": "markdown",
   "metadata": {},
   "source": [
    "Create the 4 roles for the lab"
   ]
  },
  {
   "cell_type": "code",
   "execution_count": null,
   "metadata": {},
   "outputs": [],
   "source": [
    "roleA1 = \"roleA1-\" + rand\n",
    "roleA2 = \"roleA2-\" + rand\n",
    "roleB1 = \"roleB1-\" + rand\n",
    "roleB2 = \"roleB2-\" + rand"
   ]
  },
  {
   "cell_type": "markdown",
   "metadata": {},
   "source": [
    "Create both assume policies"
   ]
  },
  {
   "cell_type": "code",
   "execution_count": null,
   "metadata": {},
   "outputs": [],
   "source": [
    "# assume_A_policy.json\n",
    "assume_A_policy = {\n",
    "  \"Version\": \"2012-10-17\",\n",
    "  \"Statement\": \n",
    "    {\n",
    "      \"Sid\": \"AssumeRolePolicyForS3ReaderRoleByExternal\",\n",
    "      \"Effect\": \"Allow\",\n",
    "      \"Principal\": {\"AWS\": principalA_arn},\n",
    "      \"Action\": \"sts:AssumeRole\"\n",
    "    }\n",
    "}"
   ]
  },
  {
   "cell_type": "code",
   "execution_count": null,
   "metadata": {},
   "outputs": [],
   "source": [
    "# assume_B_policy.json\n",
    "assume_B_policy = {\n",
    "    \"Version\": \"2012-10-17\",\n",
    "    \"Statement\": {\n",
    "        \"Sid\": \"AssumeRolePolicyB\",\n",
    "        \"Effect\": \"Allow\",\n",
    "        \"Principal\": { \"AWS\": principalB_arn },\n",
    "        \"Action\": \"sts:AssumeRole\"\n",
    "    }\n",
    "}"
   ]
  },
  {
   "cell_type": "code",
   "execution_count": null,
   "metadata": {
    "scrolled": true
   },
   "outputs": [],
   "source": [
    "assume_A_policy_str = \"'\" + json.dumps(assume_A_policy) + \"'\"\n",
    "assume_B_policy_str = \"'\" + json.dumps(assume_B_policy) + \"'\""
   ]
  },
  {
   "cell_type": "markdown",
   "metadata": {},
   "source": [
    "Create the roles inside the accounts"
   ]
  },
  {
   "cell_type": "code",
   "execution_count": null,
   "metadata": {
    "scrolled": true
   },
   "outputs": [],
   "source": [
    "!aws --profile $profileA iam create-role --role-name $roleA1 \\\n",
    "                                        --path $path \\\n",
    "                                        --assume-role-policy-document $assume_A_policy_str"
   ]
  },
  {
   "cell_type": "code",
   "execution_count": null,
   "metadata": {
    "scrolled": false
   },
   "outputs": [],
   "source": [
    "!aws --profile $profileA iam create-role --role-name $roleA2 \\\n",
    "                                        --path $path \\\n",
    "                                        --assume-role-policy-document $assume_A_policy_str"
   ]
  },
  {
   "cell_type": "code",
   "execution_count": null,
   "metadata": {
    "scrolled": true
   },
   "outputs": [],
   "source": [
    "!aws --profile $profileB iam create-role --role-name $roleB1 \\\n",
    "                                        --path $path \\\n",
    "                                        --assume-role-policy-document $assume_B_policy_str"
   ]
  },
  {
   "cell_type": "code",
   "execution_count": null,
   "metadata": {
    "scrolled": true
   },
   "outputs": [],
   "source": [
    "!aws --profile $profileB iam create-role --role-name $roleB2 \\\n",
    "                                        --path $path \\\n",
    "                                        --assume-role-policy-document $assume_B_policy_str"
   ]
  },
  {
   "cell_type": "markdown",
   "metadata": {},
   "source": [
    "Create the buckets for the lab. Note that unlike the IAM resources created, the bucket ARN does not include the account ID."
   ]
  },
  {
   "cell_type": "code",
   "execution_count": null,
   "metadata": {},
   "outputs": [],
   "source": [
    "!aws --profile $profileA s3api create-bucket --bucket $mybucket1\n",
    "!aws --profile $profileA s3api create-bucket --bucket $mybucket2 \\\n",
    "                --create-bucket-configuration LocationConstraint=us-west-1"
   ]
  },
  {
   "cell_type": "markdown",
   "metadata": {},
   "source": [
    "Copy some demo files inside each bucket"
   ]
  },
  {
   "cell_type": "code",
   "execution_count": null,
   "metadata": {},
   "outputs": [],
   "source": [
    "!aws --profile $profileA s3 cp demo-vars.sh s3://$mybucket1/\n",
    "!aws --profile $profileA s3 cp assume_A_policy.json s3://$mybucket2/"
   ]
  },
  {
   "cell_type": "markdown",
   "metadata": {},
   "source": [
    "Check that the files were copied successfully, just in case"
   ]
  },
  {
   "cell_type": "code",
   "execution_count": null,
   "metadata": {},
   "outputs": [],
   "source": [
    "!aws --profile $profileA s3 ls s3://$mybucket1\n",
    "!aws --profile $profileA s3 ls s3://$mybucket2"
   ]
  },
  {
   "cell_type": "markdown",
   "metadata": {},
   "source": [
    "Create a tagset and attach it to the bucket"
   ]
  },
  {
   "cell_type": "code",
   "execution_count": null,
   "metadata": {},
   "outputs": [],
   "source": [
    "tagset = 'TagSet=[{Key=path,Value=' + path + '},{Key=rand,Value=' + rand + '}]'\n",
    "tagset"
   ]
  },
  {
   "cell_type": "code",
   "execution_count": null,
   "metadata": {},
   "outputs": [],
   "source": [
    "!aws --profile $profileA s3api put-bucket-tagging --bucket $mybucket1 \\\n",
    "                --tagging $tagset\n",
    "!aws --profile $profileA s3api put-bucket-tagging --bucket $mybucket2 \\\n",
    "                --tagging $tagset"
   ]
  },
  {
   "cell_type": "markdown",
   "metadata": {},
   "source": [
    "We have written a function, awsas, which is aws_run_as.sh\n",
    "in this repo. It can be called as follows:\n",
    "\n",
    "awsas --profile profile role [aws command args]\n",
    "\n",
    "This does the magic of using user/service credentials in profileB to \n",
    "assume roleB1 and then run commands. Without this function, you have to get the response \n",
    "for assume-role and put them into environment variables or ~/.aws/credentials profile each time\n",
    "as described [here](https://docs.aws.amazon.com/cli/latest/userguide/cli-configure-role.html). \n",
    "This is a very new beta script so drop into a bash shell if anything goes wrong.\n",
    "\n",
    "Let's try it out!"
   ]
  },
  {
   "cell_type": "code",
   "execution_count": null,
   "metadata": {
    "scrolled": false
   },
   "outputs": [],
   "source": [
    "!awsas --profile $profileA $roleA1 sts get-caller-identity"
   ]
  },
  {
   "cell_type": "markdown",
   "metadata": {},
   "source": [
    "This should return an assumed role with the name roleA1-$rand, the account it's in, and its ARN. If it doesn't, check your creds and privileges."
   ]
  },
  {
   "cell_type": "markdown",
   "metadata": {},
   "source": [
    "### Admin setup of managed policy"
   ]
  },
  {
   "cell_type": "markdown",
   "metadata": {},
   "source": [
    "Define a function to format everything correctly"
   ]
  },
  {
   "cell_type": "code",
   "execution_count": null,
   "metadata": {},
   "outputs": [],
   "source": [
    "def jdump(data, filename):\n",
    "    with open(filename, 'w') as f:\n",
    "        json.dump(data, f, sort_keys=True, indent=4 * ' ')"
   ]
  },
  {
   "cell_type": "markdown",
   "metadata": {},
   "source": [
    "Create the policy"
   ]
  },
  {
   "cell_type": "code",
   "execution_count": null,
   "metadata": {},
   "outputs": [],
   "source": [
    "# permission-policy.json\n",
    "iam_permission_policy_for_s3 = {\n",
    "  \"Version\": \"2012-10-17\",\n",
    "  \"Statement\": [\n",
    "    {\n",
    "      \"Sid\": \"PermissionPolicyForS3Access\",\n",
    "      \"Effect\": \"Allow\",\n",
    "      \"Action\":[\"s3:PutObject\",\"s3:GetObject\",\"s3:ListBucket\"],\n",
    "      \"Resource\": [\"arn:aws:s3:::{}/*\".format(mybucket1), \n",
    "                   \"arn:aws:s3:::{}\".format(mybucket1),\n",
    "                  \"arn:aws:s3:::{}/*\".format(mybucket2), \n",
    "                   \"arn:aws:s3:::{}\".format(mybucket2)]\n",
    "    }]\n",
    "}\n",
    "jdump(iam_permission_policy_for_s3 , \"iam_permission_policy_for_s3.json\")"
   ]
  },
  {
   "cell_type": "markdown",
   "metadata": {
    "pycharm": {
     "name": "#%% md\n"
    }
   },
   "source": [
    "Since we want to attach this policy to multiple roles, we will need to create a managed policy, \n",
    "rather than an inline policy which is embedded in the role."
   ]
  },
  {
   "cell_type": "code",
   "execution_count": null,
   "metadata": {
    "pycharm": {
     "name": "#%%\n"
    }
   },
   "outputs": [],
   "source": [
    "!aws --profile $profileA iam create-policy --policy-name iam_permission_policy_for_s3_$rand \\\n",
    "                                  --path \"/aws-labs/\" \\\n",
    "                                  --policy-document file://iam_permission_policy_for_s3.json"
   ]
  },
  {
   "cell_type": "markdown",
   "metadata": {},
   "source": [
    "We must create the policy in each AWS account so repeat for B"
   ]
  },
  {
   "cell_type": "code",
   "execution_count": null,
   "metadata": {},
   "outputs": [],
   "source": [
    "!aws --profile $profileB iam create-policy --policy-name iam_permission_policy_for_s3_$rand \\\n",
    "                                --path \"/aws-labs/\" \\\n",
    "                                --policy-document file://iam_permission_policy_for_s3.json"
   ]
  },
  {
   "cell_type": "markdown",
   "metadata": {},
   "source": [
    "# Exercises"
   ]
  },
  {
   "cell_type": "markdown",
   "metadata": {},
   "source": [
    "## 1. Confirm no access for roles with no permissions and default (no) bucket policy\n",
    "So far, we have created policies and roles. When we create a role, we must include the assume-role \n",
    "trust policy which says who can assume the role. But so far it is just an empty container for us to \n",
    "put permissions policies in. Before we attach a bucket policy, let's check that we we can do with the roles\n",
    "as they are."
   ]
  },
  {
   "cell_type": "code",
   "execution_count": null,
   "metadata": {},
   "outputs": [],
   "source": [
    "!awsas --profile $profileA $roleA1 s3 ls $mybucket1"
   ]
  },
  {
   "cell_type": "markdown",
   "metadata": {},
   "source": [
    "Not really much, right? Let's see what happens next"
   ]
  },
  {
   "cell_type": "markdown",
   "metadata": {},
   "source": [
    "## 2. Check that a role with no permissions can access a bucket with the right bucket policy"
   ]
  },
  {
   "cell_type": "markdown",
   "metadata": {},
   "source": [
    "Let's create a bucket policy that allows roleA2 access to mybucket1"
   ]
  },
  {
   "cell_type": "code",
   "execution_count": null,
   "metadata": {},
   "outputs": [],
   "source": [
    "# mybucket1_policy.json\n",
    "mybucket1_policy = {\n",
    "  \"Version\": \"2012-10-17\",\n",
    "  \"Statement\": [{\n",
    "      \"Sid\": \"AssumeRolePolicyForS3ReaderRoleA\",\n",
    "      \"Effect\": \"Allow\",\n",
    "      \"Principal\": {\"AWS\": [\"arn:aws:iam::{}:root\".format(accountA), \n",
    "                            \"arn:aws:iam::{}:role/aws-labs/{}\".format(accountA, roleA2)]},\n",
    "      \"Action\": [\"s3:PutObject\",\"s3:GetObject\",\"s3:ListBucket\"],\n",
    "      \"Resource\": [\"arn:aws:s3:::{}/*\".format(mybucket1), \n",
    "                   \"arn:aws:s3:::{}\".format(mybucket1)]\n",
    "\n",
    "    }]\n",
    "}\n",
    "jdump(mybucket1_policy , \"mybucket1_policy.json\")\n",
    "mybucket1_policy_str = \"'\"+json.dumps(mybucket1_policy).replace(' ', '')+\"'\""
   ]
  },
  {
   "cell_type": "markdown",
   "metadata": {},
   "source": [
    "Great, now lets attach the policy to mybucket1. Note that we still have no roles with permission policies attached."
   ]
  },
  {
   "cell_type": "code",
   "execution_count": null,
   "metadata": {},
   "outputs": [],
   "source": [
    "!aws --profile $profileA s3api put-bucket-policy --bucket $mybucket1 --policy $mybucket1_policy_str"
   ]
  },
  {
   "cell_type": "markdown",
   "metadata": {},
   "source": [
    "Test if roleA1 can access it."
   ]
  },
  {
   "cell_type": "code",
   "execution_count": null,
   "metadata": {},
   "outputs": [],
   "source": [
    "!awsas --profile $profileA $roleA1 s3 ls s3://$mybucket1"
   ]
  },
  {
   "cell_type": "markdown",
   "metadata": {},
   "source": [
    "Expect\n",
    "\n",
    "An error occurred (AccessDenied) when calling the ListObjects operation: Access Denied"
   ]
  },
  {
   "cell_type": "markdown",
   "metadata": {},
   "source": [
    "Let's try the same with roleA2 which is explicitly allowed in the bucket policy even though roleA2 has no permission policy attached yet."
   ]
  },
  {
   "cell_type": "code",
   "execution_count": null,
   "metadata": {},
   "outputs": [],
   "source": [
    "!awsas --profile $profileA $roleA2 s3 ls s3://$mybucket1"
   ]
  },
  {
   "cell_type": "markdown",
   "metadata": {},
   "source": [
    "The timestamp doesn't matter, just the file name showing ListBucket worked."
   ]
  },
  {
   "cell_type": "markdown",
   "metadata": {},
   "source": [
    "### Conclusion\n",
    "Allowing \"root\" on an S3 policy does not grant access to all principals in the account. However, explicitly allowing a role in the S3 policy permits access even if the role has no attached permissions. This is what we mean when we say \"If the principal and the resource are in the same account, permission is the union of policies attached to the resource and principal.\""
   ]
  },
  {
   "cell_type": "markdown",
   "metadata": {},
   "source": [
    "## 3. Can a role with permissions access a bucket with no bucket policy?"
   ]
  },
  {
   "cell_type": "markdown",
   "metadata": {},
   "source": [
    "Now let's attach the iam_permission_policy_for_s3 to roleA1. For this we need the policy arn. It's in our sourced variables, but could be obtained as follows:"
   ]
  },
  {
   "cell_type": "code",
   "execution_count": null,
   "metadata": {
    "scrolled": true
   },
   "outputs": [],
   "source": [
    "!aws --profile $profileA iam list-policies --path-prefix /aws-labs/ | jq -r '.Policies[].Arn'"
   ]
  },
  {
   "cell_type": "markdown",
   "metadata": {},
   "source": [
    "And then pasted below:"
   ]
  },
  {
   "cell_type": "code",
   "execution_count": null,
   "metadata": {},
   "outputs": [],
   "source": [
    "iam_permission_policy_for_s3_arn = \"Here\""
   ]
  },
  {
   "cell_type": "markdown",
   "metadata": {},
   "source": [
    "Attach the policy to the role"
   ]
  },
  {
   "cell_type": "code",
   "execution_count": null,
   "metadata": {},
   "outputs": [],
   "source": [
    "!aws --profile $profileA iam attach-role-policy --role-name $roleA1 --policy-arn $iam_permission_policy_for_s3_arn"
   ]
  },
  {
   "cell_type": "markdown",
   "metadata": {},
   "source": [
    "Next, let's verify that roleA1 can now access mybucket1"
   ]
  },
  {
   "cell_type": "code",
   "execution_count": null,
   "metadata": {},
   "outputs": [],
   "source": [
    "!awsas --profile $profileA $roleA1 s3 ls s3://$mybucket1"
   ]
  },
  {
   "cell_type": "markdown",
   "metadata": {},
   "source": [
    "Expect someting like\n",
    "\n",
    "2020-05-03 13:57:39        185 demo-vars.sh\n",
    "\n",
    "Again, the timestamp doesn't matter, just the filename showing that the bucket is accesible."
   ]
  },
  {
   "cell_type": "markdown",
   "metadata": {},
   "source": [
    "Now test that roleA1, which has an IAM permission policy that allows it to work with mybucket1 and mybucket2, does not require mybucket2 to have a bucket policy allowing it.\n",
    "To do that, we simply try to list mybucket2's contents."
   ]
  },
  {
   "cell_type": "code",
   "execution_count": null,
   "metadata": {},
   "outputs": [],
   "source": [
    "!awsas --profile $profileA $roleA1 s3 ls s3://$mybucket2"
   ]
  },
  {
   "cell_type": "markdown",
   "metadata": {},
   "source": [
    "Expect\n",
    "\n",
    "2020-05-07 13:12:38        227 assume_A_policy.json"
   ]
  },
  {
   "cell_type": "markdown",
   "metadata": {},
   "source": [
    "### Conclusion\n",
    "\n",
    "We confirmed that an IAM policy attached to a role is all that is required to access a bucket, further supporting the \"Union within an account\" rule."
   ]
  },
  {
   "cell_type": "markdown",
   "metadata": {},
   "source": [
    "## 4. Can roleB1 with explicit IAM policy permission to access mybucket1 in accountA access it?"
   ]
  },
  {
   "cell_type": "markdown",
   "metadata": {},
   "source": [
    "Now, we want to test if we can access mybucket1 in accountA by putting a specific role policy that allows us to do just that.\n",
    "\n",
    "First, let's recall the current mybucket1 policy"
   ]
  },
  {
   "cell_type": "code",
   "execution_count": null,
   "metadata": {},
   "outputs": [],
   "source": [
    "mybucket1_policy"
   ]
  },
  {
   "cell_type": "markdown",
   "metadata": {},
   "source": [
    "Like it says there, it only gives accountA and roleA2 access to the bucket"
   ]
  },
  {
   "cell_type": "markdown",
   "metadata": {},
   "source": [
    "Now, let's attach our existing iam_permission_policy_for_s3 policy to roleB1. For that, we need its ARN, which we can get like this:"
   ]
  },
  {
   "cell_type": "code",
   "execution_count": null,
   "metadata": {},
   "outputs": [],
   "source": [
    "!aws --profile $profileB iam list-policies --path-prefix /aws-labs/ | jq -r '.Policies[].Arn'"
   ]
  },
  {
   "cell_type": "markdown",
   "metadata": {},
   "source": [
    "Then, we paste it below"
   ]
  },
  {
   "cell_type": "code",
   "execution_count": null,
   "metadata": {},
   "outputs": [],
   "source": [
    "iam_permission_policy_for_s3_arnB = \"Here\""
   ]
  },
  {
   "cell_type": "markdown",
   "metadata": {},
   "source": [
    "We attach it to the role"
   ]
  },
  {
   "cell_type": "code",
   "execution_count": null,
   "metadata": {},
   "outputs": [],
   "source": [
    "!aws --profile $profileB iam attach-role-policy --role-name $roleB1 --policy-arn $iam_permission_policy_for_s3_arnB"
   ]
  },
  {
   "cell_type": "markdown",
   "metadata": {},
   "source": [
    "And finally, we test if we can access the bucket"
   ]
  },
  {
   "cell_type": "code",
   "execution_count": null,
   "metadata": {},
   "outputs": [],
   "source": [
    "!awsas --profile $profileB $roleB1 s3 ls s3://$mybucket1"
   ]
  },
  {
   "cell_type": "markdown",
   "metadata": {},
   "source": [
    "Expect\n",
    "\n",
    "An error occurred (AccessDenied) when calling the ListObjects operation: Access Denied\n",
    "\n",
    "Since roleB1 is in a different account from mybucket1, both resource policy and IAM permission policy must explicitly grant access."
   ]
  },
  {
   "cell_type": "markdown",
   "metadata": {},
   "source": [
    "#### Now, let's try with mybucket2 in accountA after attaching a cross-account policy."
   ]
  },
  {
   "cell_type": "markdown",
   "metadata": {},
   "source": [
    "First, create the policy"
   ]
  },
  {
   "cell_type": "code",
   "execution_count": null,
   "metadata": {},
   "outputs": [],
   "source": [
    "# mybucket2_policy.json\n",
    "mybucket2_policy = {\n",
    "    \"Version\": \"2012-10-17\",\n",
    "    \"Statement\": [\n",
    "        {\n",
    "            \"Action\": [\n",
    "                \"s3:PutObject\",\n",
    "                \"s3:GetObject\",\n",
    "                \"s3:ListBucket\"\n",
    "            ],\n",
    "            \"Effect\": \"Allow\",\n",
    "            \"Principal\": {\n",
    "                \"AWS\": [\n",
    "                    \"arn:aws:iam::{}:root\".format(accountB),\n",
    "                    \"arn:aws:iam::{}:role/aws-labs/{}\".format(accountB,roleB2)\n",
    "                ]\n",
    "            },\n",
    "            \"Resource\": [\n",
    "                \"arn:aws:s3:::{}/*\".format(mybucket2),\n",
    "                \"arn:aws:s3:::{}\".format(mybucket2)\n",
    "            ],\n",
    "            \"Sid\": \"BucketPolicyForS3MyBucket2\"\n",
    "        }\n",
    "    ]\n",
    "    \n",
    "}\n",
    "mybucket2_policy_str = \"'\"+json.dumps(mybucket2_policy)+\"'\""
   ]
  },
  {
   "cell_type": "markdown",
   "metadata": {},
   "source": [
    "Then put it in the bucket"
   ]
  },
  {
   "cell_type": "code",
   "execution_count": null,
   "metadata": {},
   "outputs": [],
   "source": [
    "!aws --profile $profileA s3api put-bucket-policy --bucket $mybucket2 --policy $mybucket2_policy_str"
   ]
  },
  {
   "cell_type": "markdown",
   "metadata": {},
   "source": [
    "And then try to list its contents from roleB1"
   ]
  },
  {
   "cell_type": "code",
   "execution_count": null,
   "metadata": {
    "scrolled": true
   },
   "outputs": [],
   "source": [
    "!awsas --profile $profileB $roleB1 s3 ls s3://$mybucket2"
   ]
  },
  {
   "cell_type": "markdown",
   "metadata": {},
   "source": [
    "Expect success. This works because mybucket1 trusts the root of accountB which means that it trusts the admin of accountB to assign s3 permissions INCLUDING accessing external accounts.\n",
    "\n",
    "What about roleB2 then? We haven't attached a permission policy to it yet, but it is explicitly allowed in mybucket2's resource policy."
   ]
  },
  {
   "cell_type": "code",
   "execution_count": null,
   "metadata": {},
   "outputs": [],
   "source": [
    "!awsas --profile $profileB $roleB2 s3 ls s3://$mybucket2"
   ]
  },
  {
   "cell_type": "markdown",
   "metadata": {},
   "source": [
    "Expect an AccessDenied. Surprise! This result is not consistent with the result when the role and s3 bucket are in the same account. For cross-account, even when an s3 bucket explicitly names a resource from another account, the role must also have the permission attached."
   ]
  },
  {
   "cell_type": "markdown",
   "metadata": {},
   "source": [
    "### Conclusion\n",
    "\n",
    "We couldn't access a bucket in another account without an explicit allow inside the bucket policy AND the IAM permissions policy, and that is perfectly fine, since if it let us, we could access any bucket in any account just by knowing the bucket's name."
   ]
  },
  {
   "cell_type": "markdown",
   "metadata": {},
   "source": [
    "## 5. Beware of conditional policies"
   ]
  },
  {
   "cell_type": "markdown",
   "metadata": {},
   "source": [
    "Let's replace the existing mybucket2 policy with the following policy. It adds a condition block to only allow access to certain IPs."
   ]
  },
  {
   "cell_type": "code",
   "execution_count": null,
   "metadata": {},
   "outputs": [],
   "source": [
    "# mybucket2_conditional_policy.json\n",
    "mybucket2_conditional_policy = {\n",
    "  \"Version\":\"2012-10-17\",\n",
    "  \"Statement\":[\n",
    "    {\n",
    "      \"Sid\":\"AddCrossAccountPutPolicy\",\n",
    "      \"Effect\":\"Allow\",\n",
    "      \"Principal\": {\"AWS\": [\"arn:aws:iam::{}:root\".format(accountB)]},\n",
    "      \"Action\":[\"s3:PutObject\",\"s3:GetObject\",\"s3:ListBucket\"],\n",
    "      \"Resource\":[\"arn:aws:s3:::{}/*\".format(mybucket2), \"arn:aws:s3:::{}\".format(mybucket2)],\n",
    "      \"Condition\": {\n",
    "        \"IpAddress\": {\n",
    "          \"aws:SourceIp\": [\n",
    "            \"54.240.144.0/32\",\n",
    "            \"54.240.144.0/24\"\n",
    "          ]\n",
    "        }\n",
    "        }\n",
    "      }\n",
    "    ]\n",
    "}\n",
    "mybucket2_conditional_policy_str = \"'\"+json.dumps(mybucket2_conditional_policy)+\"'\""
   ]
  },
  {
   "cell_type": "code",
   "execution_count": null,
   "metadata": {},
   "outputs": [],
   "source": [
    "!aws --profile $profileA s3api put-bucket-policy --bucket $mybucket2 --policy $mybucket2_conditional_policy_str"
   ]
  },
  {
   "cell_type": "markdown",
   "metadata": {},
   "source": [
    "#### Question:\n",
    "* Can we list bucket items from non-whitelisted IPs?"
   ]
  },
  {
   "cell_type": "markdown",
   "metadata": {},
   "source": [
    "First, let's try to access the bucket from role B1, which we knew could access it before."
   ]
  },
  {
   "cell_type": "code",
   "execution_count": null,
   "metadata": {
    "scrolled": true
   },
   "outputs": [],
   "source": [
    "!awsas --profile $profileB $roleB1 s3 ls s3://$mybucket2"
   ]
  },
  {
   "cell_type": "markdown",
   "metadata": {},
   "source": [
    "Now, we can't access anymore, because our IP is not in the whitelisted options.\n",
    "\n",
    "What about role A1?"
   ]
  },
  {
   "cell_type": "code",
   "execution_count": null,
   "metadata": {},
   "outputs": [],
   "source": [
    "!awsas --profile $profileA $roleA1 s3 ls s3://$mybucket2"
   ]
  },
  {
   "cell_type": "markdown",
   "metadata": {},
   "source": [
    "### Conclusion\n",
    "RoleA1 can access the bucket because its IAM permission policy is not restricted and the decision is based on the union of what the IAM permission policy allows (yes) and what the s3 bucket policy allows (no). In contrast, for roleB1, the IAM permission policy (yes) intersected with the resource policy (no), leading to a denial of access."
   ]
  },
  {
   "cell_type": "markdown",
   "metadata": {},
   "source": [
    "# 6. The necessity of explicit Deny statements"
   ]
  },
  {
   "cell_type": "markdown",
   "metadata": {},
   "source": [
    "What if you wish to only allow roleA1 and no other principal access to mybucket2? You might try to apply granular roles to all principals in accountA so that you never granted access to resource * for s3 operations to any principal. This is difficult to enforce. A better way is to apply an explicit Deny to all principals except roleA1 in the mybucket2 bucket policy."
   ]
  },
  {
   "cell_type": "markdown",
   "metadata": {},
   "source": [
    "For that, we need a new mybucket2 policy, which we'll create now"
   ]
  },
  {
   "cell_type": "code",
   "execution_count": null,
   "metadata": {},
   "outputs": [],
   "source": [
    "mybucket2_deny_policy = {\n",
    "    \"Version\": \"2012-10-17\",\n",
    "    \"Statement\": [\n",
    "      {\n",
    "        \"Sid\": \"ExplicitDenyBucketPolicyForAllBut\",\n",
    "        \"Effect\": \"Deny\",\n",
    "        \"Principal\": {\n",
    "          \"AWS\": [\"arn:aws:iam::{}:role/aws-labs/{}\".format(accountB,roleB2),\n",
    "                  \"arn:aws:iam::{}:role/aws-labs/{}\".format(accountA,roleA2)]\n",
    "         },\n",
    "        \"Action\": [\"s3:PutObject\", \"s3:GetObject\", \"s3:ListBucket\"],\n",
    "        \"Resource\": [ \"arn:aws:s3:::{}/*\".format(mybucket2),\n",
    "                      \"arn:aws:s3:::{}\".format(mybucket2)\n",
    "        ],\n",
    "        \"Condition\": {\"ArnNotLike\": {\n",
    "              \"aws:SourceArn\": [\"arn:aws:iam::{}:role/aws-labs/{}\".format(accountA,roleA2),\n",
    "                                \"arn:aws:iam::{}:role/aws-labs/{}\".format(accountB,roleB2)]}\n",
    "        }\n",
    "      },\n",
    "      {\n",
    "        \"Sid\": \"AllowCrossAccountForS3MyBucket2\",\n",
    "        \"Effect\": \"Allow\",\n",
    "        \"Principal\": {\n",
    "          \"AWS\": [\"arn:aws:iam::{}:role/aws-labs/{}\".format(accountB,roleB1)]\n",
    "         },\n",
    "        \"Action\": [\"s3:PutObject\", \"s3:GetObject\", \"s3:ListBucket\"],\n",
    "        \"Resource\": [ \"arn:aws:s3:::{}/*\".format(mybucket2),\n",
    "                      \"arn:aws:s3:::{}\".format(mybucket2)\n",
    "        ]\n",
    "      }\n",
    "    ]\n",
    "  }\n",
    "mybucket2_deny_policy_str = \"'\"+json.dumps(mybucket2_deny_policy)+\"'\""
   ]
  },
  {
   "cell_type": "markdown",
   "metadata": {},
   "source": [
    "Then, we'll put it in the bucket, replacing the previous policy"
   ]
  },
  {
   "cell_type": "code",
   "execution_count": null,
   "metadata": {},
   "outputs": [],
   "source": [
    "!aws --profile $profileA s3api put-bucket-policy --bucket $mybucket2 --policy $mybucket2_deny_policy_str"
   ]
  },
  {
   "cell_type": "markdown",
   "metadata": {},
   "source": [
    "Now, let's try to read the bucket's contents from roleA1"
   ]
  },
  {
   "cell_type": "code",
   "execution_count": null,
   "metadata": {},
   "outputs": [],
   "source": [
    "!awsas --profile $profileA $roleA1 s3 ls s3://$mybucket2"
   ]
  },
  {
   "cell_type": "markdown",
   "metadata": {},
   "source": [
    "Great! Our policy lets us do that. Now let's try from roleA2"
   ]
  },
  {
   "cell_type": "code",
   "execution_count": null,
   "metadata": {},
   "outputs": [],
   "source": [
    "!awsas --profile $profileA $roleA2 s3 ls s3://$mybucket2"
   ]
  },
  {
   "cell_type": "markdown",
   "metadata": {},
   "source": [
    "So far so good, only roleA1 can access. Now, notice the second statement in the policy? It allows roleB1 from accountB access to the bucket. If that statement gets deleted, then only roleA1 can access the bucket. But let's try accessing it from roleB1 to see if it works"
   ]
  },
  {
   "cell_type": "code",
   "execution_count": null,
   "metadata": {},
   "outputs": [],
   "source": [
    "!awsas --profile $profileB $roleB1 s3 ls s3://$mybucket2"
   ]
  },
  {
   "cell_type": "markdown",
   "metadata": {},
   "source": [
    "Just in case, let's also try accessing the bucket from roleB2"
   ]
  },
  {
   "cell_type": "code",
   "execution_count": null,
   "metadata": {},
   "outputs": [],
   "source": [
    "!awsas --profile $profileB $roleB2 s3 ls s3://$mybucket2"
   ]
  },
  {
   "cell_type": "markdown",
   "metadata": {},
   "source": [
    "It's not letting us, just like we planned"
   ]
  },
  {
   "cell_type": "markdown",
   "metadata": {},
   "source": [
    "### Conclusion\n",
    "If we need to, we can create a bucket policy that denies permission to all principals, except the one we want, which is good for scalability and security best practices"
   ]
  },
  {
   "cell_type": "markdown",
   "metadata": {},
   "source": [
    "# Congratulations! \n",
    "\n",
    "You've completed Lab2.\n",
    "\n",
    "We'll sumarize the results as follows:\n",
    "\n",
    "* When a role and resource are in the same account permssion is granted if either the role or resource grants access. This is called union.\n",
    "\n",
    "* When a role and resource are in different accounts, permission must be granted by both the role and the resource. This is called intersection."
   ]
  },
  {
   "cell_type": "markdown",
   "metadata": {},
   "source": [
    "Execute the cell below if you want to delete everything from both accounts, to keep them as clean as possible, following security best practices. \n",
    "\n",
    "Warning: The s3 rb command will remove everything from both buckets and then delete them."
   ]
  },
  {
   "cell_type": "code",
   "execution_count": null,
   "metadata": {},
   "outputs": [],
   "source": [
    "!aws --profile $profileA iam detach-role-policy --role-name $roleA1 --policy-arn $iam_permission_policy_for_s3_arn\n",
    "!aws --profile $profileB iam detach-role-policy --role-name $roleB1 --policy-arn $iam_permission_policy_for_s3_arnB\n",
    "!aws --profile $profileA iam delete-policy --policy-arn $iam_permission_policy_for_s3_arn\n",
    "!aws --profile $profileB iam delete-policy --policy-arn $iam_permission_policy_for_s3_arnB\n",
    "!aws --profile $profileA iam delete-role --role-name $roleA1\n",
    "!aws --profile $profileB iam delete-role --role-name $roleB1\n",
    "!aws --profile $profileA iam delete-role --role-name $roleA2\n",
    "!aws --profile $profileB iam delete-role --role-name $roleB2\n",
    "!aws --profile $profileA s3 rb s3://$mybucket1 --force\n",
    "!aws --profile $profileA s3 rb s3://$mybucket2 --force"
   ]
  }
 ],
 "metadata": {
  "kernelspec": {
   "display_name": "Python 3",
   "language": "python",
   "name": "python3"
  },
  "language_info": {
   "codemirror_mode": {
    "name": "ipython",
    "version": 3
   },
   "file_extension": ".py",
   "mimetype": "text/x-python",
   "name": "python",
   "nbconvert_exporter": "python",
   "pygments_lexer": "ipython3",
   "version": "3.7.6"
  }
 },
 "nbformat": 4,
 "nbformat_minor": 1
}
